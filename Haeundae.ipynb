!pip install osmnx
# !python -m pip uninstall matplotlib
!pip install matplotlib==3.1.3

import requests
import pprint
import json

# 해운대구 관광지 API
tour_url = 'http://apis.data.go.kr/3330000/HeaundaeTourAttrInfoService/getTourAttrList'
tour_params ={'serviceKey' : 'YOUR KEY', 'pageNo' : '1', 'numOfRows' : '1000', 'resultType' : 'json' }

tour_response = requests.get(tour_url, params=tour_params)
pp = pprint.PrettyPrinter(indent=4)

# JSON 데이터 파싱
tour_parsed_data = json.loads(tour_response.text)

# 관광지 리스트 가져오기
tour_list = tour_parsed_data['getTourAttrList']['item']

# 해운대구 상권 API
storeHistory_url = 'http://apis.data.go.kr/6260000/BusanCommercialHistoryService/getCommercialHistoryList'
storeHistory_params = {'serviceKey': 'YOUR KEY',
                       'pageNo': '1', 'numOfRows': '20000', 'resultType': 'json'}

storeHistory_list = []  # 저장할 리스트

for page in range(1, 15):  # pageNo 1부터 14까지 반복
    storeHistory_params['pageNo'] = str(page)  # 페이지 번호 업데이트
    storeHistory_response = requests.get(storeHistory_url, params=storeHistory_params)
    storeHistory_data = storeHistory_response.json()
    
    # 데이터가 있는 경우에만 추가 저장
    if 'getCommercialHistoryList' in storeHistory_data:
        items = storeHistory_data['getCommercialHistoryList']['body']['items']['item']
        storeHistory_list.append(items)



import re

def parse_coordinates(geom):
    # 정규식을 사용하여 좌표값 추출
    match = re.search(r'POINT\(([-0-9.]+) ([-0-9.]+)\)', geom)
    if match:
        # 추출한 좌표값을 반환
        return float(match.group(2)), float(match.group(1))
    else:
        return None, None


# 변환된 데이터 저장할 리스트
storeHistory_parsed_data_list = []

# 각 아이템에 대해 좌표값 변환 후 파싱된 데이터 리스트에 추가
for storeList in storeHistory_list:
    for item in storeList:
        lat, lng = parse_coordinates(item['geom'])
        flag1 = item['trdstatenm'] == '영업/정상'
        flag2 = '해운대구' in item['rdnwhladdr']
        flag3 =  '외식' in item['majornm']
        if flag1 and flag2 and flag3 and lat is not None and lng is not None:
            # 변환된 좌표값을 포함한 파싱된 데이터를 추가
            item['lat'] = lat
            item['lng'] = lng
            storeHistory_parsed_data_list.append(item)
            #print(item)

#부산지역 숙박분야 업체
accommodation_url = 'https://api.odcloud.kr/api/15096728/v1/uddi:a7cfe5da-2d11-4416-b67f-aff99ee63bbe?page=1&perPage=200000'
accommodation_params ={'serviceKey' : '0GlB1hI8Lvqzfq3LlIeGru4xFAw/dvJYO/8QCNr2xMEPTqMZ+9p8umGBdN+JAiZ43qfpzji+yCGK18+1ZHwP4g==', 'pageNo' : '1', 'numOfRows' : '2000', 'resultType' : 'json' }

accommodation_response = requests.get(accommodation_url, params=accommodation_params)
pp = pprint.PrettyPrinter(indent=4)
#print(pp.pprint(accommodation_response.text))

# JSON 데이터 파싱
accommodation_parsed_data = json.loads(accommodation_response.text)

# 숙박분야 리스트 가져오기
accommodation_list = accommodation_parsed_data['data']
#print(accommodation_list)

# 변환된 데이터 저장할 리스트
accommodation_parsed_data_list = []

# 각 아이템에 대해 좌표값 변환 후 파싱된 데이터 리스트에 추가
for item in accommodation_list:
    lat = item['위도']
    lng = item['경도']
    flag1 = item['폐업여부'] == 'N'
    flag2 = '해운' in item['시군구명']
    flag3 =  '숙박' in item['카테고리명']
    if flag1 and flag2 and flag3 and lat is not None and lng is not None:
        # 변환된 좌표값을 포함한 파싱된 데이터를 추가
        item['lat'] = lat
        item['lng'] = lng
        accommodation_parsed_data_list.append(item)
        #print(item)

#print(accommodation_parsed_data_list)
