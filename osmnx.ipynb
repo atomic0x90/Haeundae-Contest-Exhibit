import networkx as nx
import osmnx as ox
import matplotlib.pyplot as plt

# download/model a street network for some city then visualize it
place = "Haeundae-gu, Busan, Korea"
G = ox.graph_from_place(place, network_type="walk")
fig, ax = ox.plot_graph(G)

#G = ox.graph_from_bbox(35.18, 35.14, 129.18, 129.14, network_type="walk")
#G = ox.graph_from_bbox(35.17, 35.13, 129.14, 129.1, network_type="walk")
#fig, ax = ox.plot_graph(G)

!pip install descartes

import geopandas as gpd
from descartes import PolygonPatch
from shapely.geometry import LineString
from shapely.geometry import Point
from shapely.geometry import Polygon

#@title
def isochrone(data_list, trip_times, travel_speed, type):
    global G

    # 그래프를 투영을 위해 복사본 생성
    G_proj = G.copy()
    
    # 이동 속도에 기반하여 엣지 이동 시간 계산
    meters_per_minute = travel_speed * 1000 / 60  # 시속 km를 분당 m로 변환
    for _, _, _, data in G_proj.edges(data=True, keys=True):
        data["time"] = data["length"] / meters_per_minute

    # 노드 색상과 크기 정의
    node_colors = {}

    # 점포 수
    storeCount = 0
    # 숙박업체 수
    accommodationCount = 0

    # 공원 인덱스에 기반한 등시성 색상 추가
    iso_colors = ox.plot.get_colors(n=len(trip_times), cmap="plasma", start=0, return_hex=True)

    # 데이터 리스트를 반복하며 등시성 계산
    for data in data_list:
        # 위도와 경도 값 추출
        if data['lat'] == "" or data['lng'] == "": continue

        # if type == 'tour':
        #     if '해운대해수욕' not in data['trrsrtNm']: continue
            
        lat = float(data['lat'])
        lng = float(data['lng'])

        # 지정된 위치에 가장 가까운 노드 찾기
        center_node = ox.distance.nearest_nodes(G_proj, lng, lat)

        for trip_time, color in zip(sorted(trip_times, reverse=True), iso_colors):
            subgraph = nx.ego_graph(G_proj, center_node, radius=trip_time, distance="time")
            for node in subgraph.nodes():
                if node not in node_colors or node_colors[node] < color:
                    node_colors[node] = color

    
    #등시성이 있는 노드에 storeHistory_parsed_data_list 의 위치 데이터가 있는지 확인
    for data in storeHistory_parsed_data_list:
        if data['lat'] == "" or data['lng'] == "": continue
        lat = float(data['lat'])
        lng = float(data['lng'])
        # 지정된 위치에 가장 가까운 노드 찾기
        center_node = ox.distance.nearest_nodes(G_proj, lng, lat)

        #여기에 node_colors의 색 데이터가 있으면 storeCount 1증가 코드 구현 
        if center_node in node_colors:
            storeCount += 1
            #print(data)

    print('외식업 ', storeCount)

    
    # 등시성이 있는 노드에 accommodation_parsed_data_list 의 위치 데이터가 있는지 확인
    for data in accommodation_parsed_data_list:
        if data['lat'] == "" or data['lng'] == "": continue
        lat = float(data['lat'])
        lng = float(data['lng'])
        # 지정된 위치에 가장 가까운 노드 찾기
        center_node = ox.distance.nearest_nodes(G_proj, lng, lat)

        #여기에 node_colors의 색 데이터가 있으면 storeCount 1증가 코드 구현 
        if center_node in node_colors:
            accommodationCount += 1

    print('숙박업 ', accommodationCount)

    # 그래프 표시를 위한 축 범위 설정
    north, south, east, west = ox.graph_to_gdfs(G_proj, nodes=False).total_bounds
    margin = 0.02  # 축 범위 확장을 위한 여유 공간
    fig, ax = plt.subplots(figsize=(10, 10))
    ax.set_xlim(west - margin, east + margin)
    ax.set_ylim(south - margin, north + margin)
    ax.set_facecolor('black')

    # 등시성에 따라 노드에 색상 할당
    nc = [node_colors[node] if node in node_colors else "none" for node in G_proj.nodes()]
    ns = [15 if node in node_colors else 0 for node in G_proj.nodes()]

    # 그래프 시각화
    ox.plot_graph(G_proj, ax=ax, node_color=nc, node_size=ns, node_alpha=0.8, edge_linewidth=0.2, edge_color="#999999", show=True)

trip_times = [1,3,5,7]#[1, 5, 10, 15, 20, 25, 30] # 분 단위의 여행시간, 5분거리내
travel_speed = 4.5 # 걷는 속도 (km/hour)

# 관광지 시각화
isochrone(tour_list, trip_times, travel_speed,"tour")

